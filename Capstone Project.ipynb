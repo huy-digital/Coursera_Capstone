{
    "cells": [
        {
            "cell_type": "markdown",
            "metadata": {
                "collapsed": true
            },
            "source": "# Where should we set up our office?"
        },
        {
            "cell_type": "markdown",
            "metadata": {},
            "source": "## Problem"
        },
        {
            "cell_type": "markdown",
            "metadata": {},
            "source": "Covid-2019 has a big impact to our economy.\nIf you want to start a start up, you need to choose a right place so that your business can grow profitable.\n\nWhere should we set up our office in New York?\n\nThat's the problem!"
        },
        {
            "cell_type": "markdown",
            "metadata": {},
            "source": "## Background"
        },
        {
            "cell_type": "markdown",
            "metadata": {},
            "source": "In Module 3, we explored New York City, segmented and clustered their neighborhoods.\nWith each neighborhood, we can list down the top common venues.\n\nExample, we want to start a startup in Technology.\nWith the data we have, which neighborhood we should choose to start our journey?"
        },
        {
            "cell_type": "markdown",
            "metadata": {},
            "source": "## Data"
        },
        {
            "cell_type": "markdown",
            "metadata": {},
            "source": "Neighborhood has a total of 5 boroughs and 306 neighborhoods.\nIn each neighborhood, we have some categories of venues.\nWe also can sort by the most common venues for each neighborhood.\n\nHere is a sneak peek of our data\n\n![alt text](https://i.imgur.com/wItJ9Ti.png \"Demo\")"
        },
        {
            "cell_type": "markdown",
            "metadata": {},
            "source": "## Solution"
        },
        {
            "cell_type": "markdown",
            "metadata": {},
            "source": "To choose the best neighborhood to set up our Technology company, we will pick some categories that our Tech employees need.\nWhat do you think?\n\nFor me, they are:\n1. \u2615 **Caf\u00e9**: Haha, of course our employees need coffee to stay awake\n2. \ud83c\udf7d **Restaurant**: Any restaurant to provide delicous food for our employees\n3. \ud83d\udcaa **Gym**: More healthy, more productive\n\nSo, to check if a neighborhood is suitable or not, we will check if top 10 common venues of this neighborhood contains 3 recommended categories.\nAnd we score them with point: cafe = 3, restaurant = 2, gym = 1.\n\nThe top scoring neighborhood is the most suitable choice."
        },
        {
            "cell_type": "code",
            "execution_count": null,
            "metadata": {},
            "outputs": [],
            "source": ""
        }
    ],
    "metadata": {
        "kernelspec": {
            "display_name": "Python 3.6",
            "language": "python",
            "name": "python3"
        },
        "language_info": {
            "codemirror_mode": {
                "name": "ipython",
                "version": 3
            },
            "file_extension": ".py",
            "mimetype": "text/x-python",
            "name": "python",
            "nbconvert_exporter": "python",
            "pygments_lexer": "ipython3",
            "version": "3.6.9"
        }
    },
    "nbformat": 4,
    "nbformat_minor": 1
}